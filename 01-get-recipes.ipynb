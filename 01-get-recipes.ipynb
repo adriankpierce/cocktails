{
 "cells": [
  {
   "cell_type": "markdown",
   "metadata": {},
   "source": [
    "# Initialize"
   ]
  },
  {
   "cell_type": "code",
   "execution_count": 5,
   "metadata": {
    "ExecuteTime": {
     "end_time": "2020-01-05T02:26:09.573727Z",
     "start_time": "2020-01-05T02:26:09.569727Z"
    }
   },
   "outputs": [
    {
     "data": {
      "text/plain": [
       "'C:\\\\Users\\\\Adrian\\\\Miniconda3\\\\envs\\\\cocktails\\\\python.exe'"
      ]
     },
     "execution_count": 5,
     "metadata": {},
     "output_type": "execute_result"
    }
   ],
   "source": [
    "import sys\n",
    "sys.executable"
   ]
  },
  {
   "cell_type": "code",
   "execution_count": 6,
   "metadata": {
    "ExecuteTime": {
     "end_time": "2020-01-05T02:26:09.585227Z",
     "start_time": "2020-01-05T02:26:09.575727Z"
    }
   },
   "outputs": [
    {
     "name": "stdout",
     "output_type": "stream",
     "text": [
      "Populating the interactive namespace from numpy and matplotlib\n"
     ]
    }
   ],
   "source": [
    "# Load plugins\n",
    "import numpy as np\n",
    "import pandas as pd \n",
    "import matplotlib.pyplot as plt\n",
    "from bs4 import BeautifulSoup\n",
    "\n",
    "# Set plugin options\n",
    "pd.set_option('display.max_rows', 500)\n",
    "pd.set_option('display.max_columns', 500)\n",
    "pd.set_option('display.width', 1000)\n",
    "pd.set_option('display.float_format', '{:.2f}'.format)\n",
    "%pylab inline\n",
    "pylab.rcParams['figure.figsize'] = (10, 6)\n",
    "\n",
    "# Set jupyter options\n",
    "from IPython.core.interactiveshell import InteractiveShell\n",
    "InteractiveShell.ast_node_interactivity = \"all\"\n",
    "#InteractiveShell.ast_node_interactivity = \"last_expr\""
   ]
  },
  {
   "cell_type": "markdown",
   "metadata": {},
   "source": [
    "# Recipes from Death and Co book"
   ]
  },
  {
   "cell_type": "markdown",
   "metadata": {},
   "source": [
    "## Extract Recipes"
   ]
  },
  {
   "cell_type": "markdown",
   "metadata": {},
   "source": [
    "Import ebook html as soup"
   ]
  },
  {
   "cell_type": "code",
   "execution_count": 7,
   "metadata": {
    "ExecuteTime": {
     "end_time": "2020-01-05T02:26:09.877223Z",
     "start_time": "2020-01-05T02:26:09.586727Z"
    }
   },
   "outputs": [],
   "source": [
    "with open(\"data/death-and-co-recipes.html\", encoding=\"utf8\") as fp:\n",
    "    soup = BeautifulSoup(fp)\n",
    "# Preview\n",
    "#soup"
   ]
  },
  {
   "cell_type": "markdown",
   "metadata": {},
   "source": [
    "Get all tags for the three types of elements we are interested in (they should line up)"
   ]
  },
  {
   "cell_type": "code",
   "execution_count": 8,
   "metadata": {
    "ExecuteTime": {
     "end_time": "2020-01-05T02:26:10.121019Z",
     "start_time": "2020-01-05T02:26:09.879721Z"
    }
   },
   "outputs": [],
   "source": [
    "container_names = soup.find_all('h3', class_ = \"recipe_subtitle\")\n",
    "container_ingredients = soup.find_all('div', class_ = \"ingredients\")\n",
    "method_container = soup.find_all('p', class_ = \"sub_method\")"
   ]
  },
  {
   "cell_type": "markdown",
   "metadata": {},
   "source": [
    "Loop through all recipes and save each component to a dictionary"
   ]
  },
  {
   "cell_type": "code",
   "execution_count": 9,
   "metadata": {
    "ExecuteTime": {
     "end_time": "2020-01-05T02:26:10.163569Z",
     "start_time": "2020-01-05T02:26:10.122531Z"
    }
   },
   "outputs": [],
   "source": [
    "# Empty list to store all recipes\n",
    "recipes = []\n",
    "\n",
    "# Count number of recipes we will scrape\n",
    "no_cocktails = len(container_names)\n",
    "\n",
    "# Loop through every recipe\n",
    "for i in range(no_cocktails):\n",
    "    # Create empty dictionary to store recipe\n",
    "    single_recipe_dict = {}\n",
    "    # Store recipe name\n",
    "    single_recipe_dict['recipe_name'] = container_names[i].span.text\n",
    "    # Get ingredients\n",
    "    ingredients_list = []\n",
    "    for j in container_ingredients[i].findAll('p'):\n",
    "        ingredients_list.append(j.text)\n",
    "    single_recipe_dict['recipe_ingredients'] = ingredients_list\n",
    "    # Get method\n",
    "    single_recipe_dict['recipe_method'] = method_container[i].text\n",
    "    # Append recipe dictionary to list\n",
    "    recipes.append(single_recipe_dict)"
   ]
  },
  {
   "cell_type": "markdown",
   "metadata": {},
   "source": [
    "Preview dictionary"
   ]
  },
  {
   "cell_type": "code",
   "execution_count": 10,
   "metadata": {
    "ExecuteTime": {
     "end_time": "2020-01-05T02:26:10.170568Z",
     "start_time": "2020-01-05T02:26:10.165067Z"
    },
    "scrolled": true
   },
   "outputs": [
    {
     "data": {
      "text/plain": [
       "466"
      ]
     },
     "execution_count": 10,
     "metadata": {},
     "output_type": "execute_result"
    },
    {
     "name": "stdout",
     "output_type": "stream",
     "text": [
      "[\n",
      "    {\n",
      "        \"recipe_name\": \"20TH CENTURY\",\n",
      "        \"recipe_ingredients\": [\n",
      "            \"1½ OUNCES BEEFEATER LONDON DRY GIN\",\n",
      "            \"¾ OUNCE MARIE BRIZARD WHITE CRÈME DE CACAO\",\n",
      "            \"¾ OUNCE COCCHI AMERICANO\",\n",
      "            \"¾ OUNCE LEMON JUICE\"\n",
      "        ],\n",
      "        \"recipe_method\": \"Shake all the ingredients with ice, then double strain into a coupe. No garnish.\"\n",
      "    },\n",
      "    {\n",
      "        \"recipe_name\": \"AIRMAIL\",\n",
      "        \"recipe_ingredients\": [\n",
      "            \"1 OUNCE RON DEL BARRILITO 3-STAR RUM\",\n",
      "            \"½ OUNCE LIME JUICE\",\n",
      "            \"½ OUNCE ACACIA HONEY SYRUP\",\n",
      "            \"DRY CHAMPAGNE\"\n",
      "        ],\n",
      "        \"recipe_method\": \"Shake all the ingredients (except the champagne) with ice, then strain into a flute. Top with champagne. No garnish.\"\n",
      "    },\n",
      "    {\n",
      "        \"recipe_name\": \"AVIATION\",\n",
      "        \"recipe_ingredients\": [\n",
      "            \"2 OUNCES PLYMOUTH GIN\",\n",
      "            \"½ OUNCE LUXARDO MARASCHINO LIQUEUR\",\n",
      "            \"½ TEASPOON CRÈME YVETTE\",\n",
      "            \"¾ OUNCE LEMON JUICE\",\n",
      "            \"¼ OUNCE SIMPLE SYRUP\",\n",
      "            \"GARNISH: 1 BRANDIED CHERRY\"\n",
      "        ],\n",
      "        \"recipe_method\": \"Shake all the ingredients with ice, then strain into a coupe. Garnish with the cherry.\"\n",
      "    },\n",
      "    {\n",
      "        \"recipe_name\": \"BAMBOO\",\n",
      "        \"recipe_ingredients\": [\n",
      "            \"1½ OUNCES DOLIN BLANC VERMOUTH\",\n",
      "            \"1½ OUNCES BARBADILLO PRINCIPE AMONTILLADO SHERRY\",\n",
      "            \"½ TEASPOON CANE SUGAR SYRUP\",\n",
      "            \"1 DASH HOUSE ORANGE BITTERS\",\n",
      "            \"1 DASH ANGOSTURA BITTERS\",\n",
      "            \"GARNISH: 1 LEMON TWIST\"\n",
      "        ],\n",
      "        \"recipe_method\": \"Stir all the ingredients over ice, then strain into a rocks glass. Garnish with the lemon twist.\"\n",
      "    },\n",
      "    {\n",
      "        \"recipe_name\": \"BEE’S KNEES\",\n",
      "        \"recipe_ingredients\": [\n",
      "            \"2 OUNCES TANQUERAY LONDON DRY GIN\",\n",
      "            \"¾ OUNCE LEMON JUICE\",\n",
      "            \"¾ OUNCE ACACIA HONEY SYRUP\",\n",
      "            \"3 DROPS SCRAPPY’S LAVENDER BITTERS\",\n",
      "            \"GARNISH: 1 BRANDIED CHERRY\"\n",
      "        ],\n",
      "        \"recipe_method\": \"Shake all the ingredients with ice, then strain into a coupe. Garnish with the cherry.\"\n",
      "    }\n",
      "]\n"
     ]
    }
   ],
   "source": [
    "# Print number of recipes\n",
    "len(recipes)\n",
    "# Pretty first 5 entries in dictionary\n",
    "import json\n",
    "print(json.dumps([x for x in list(recipes)[0:5]], sort_keys=False, indent=4, ensure_ascii=False))"
   ]
  },
  {
   "cell_type": "markdown",
   "metadata": {},
   "source": [
    "Flatten to dataframe"
   ]
  },
  {
   "cell_type": "code",
   "execution_count": 14,
   "metadata": {
    "ExecuteTime": {
     "end_time": "2020-01-05T03:00:34.841263Z",
     "start_time": "2020-01-05T03:00:34.824763Z"
    }
   },
   "outputs": [
    {
     "data": {
      "text/html": [
       "<div>\n",
       "<style scoped>\n",
       "    .dataframe tbody tr th:only-of-type {\n",
       "        vertical-align: middle;\n",
       "    }\n",
       "\n",
       "    .dataframe tbody tr th {\n",
       "        vertical-align: top;\n",
       "    }\n",
       "\n",
       "    .dataframe thead th {\n",
       "        text-align: right;\n",
       "    }\n",
       "</style>\n",
       "<table border=\"1\" class=\"dataframe\">\n",
       "  <thead>\n",
       "    <tr style=\"text-align: right;\">\n",
       "      <th></th>\n",
       "      <th>recipe_name</th>\n",
       "      <th>recipe_ingredients</th>\n",
       "      <th>recipe_method</th>\n",
       "    </tr>\n",
       "  </thead>\n",
       "  <tbody>\n",
       "    <tr>\n",
       "      <td>0</td>\n",
       "      <td>20TH CENTURY</td>\n",
       "      <td>1½ OUNCES BEEFEATER LONDON DRY GIN</td>\n",
       "      <td>Shake all the ingredients with ice, then doubl...</td>\n",
       "    </tr>\n",
       "    <tr>\n",
       "      <td>0</td>\n",
       "      <td>20TH CENTURY</td>\n",
       "      <td>¾ OUNCE MARIE BRIZARD WHITE CRÈME DE CACAO</td>\n",
       "      <td>Shake all the ingredients with ice, then doubl...</td>\n",
       "    </tr>\n",
       "    <tr>\n",
       "      <td>0</td>\n",
       "      <td>20TH CENTURY</td>\n",
       "      <td>¾ OUNCE COCCHI AMERICANO</td>\n",
       "      <td>Shake all the ingredients with ice, then doubl...</td>\n",
       "    </tr>\n",
       "    <tr>\n",
       "      <td>0</td>\n",
       "      <td>20TH CENTURY</td>\n",
       "      <td>¾ OUNCE LEMON JUICE</td>\n",
       "      <td>Shake all the ingredients with ice, then doubl...</td>\n",
       "    </tr>\n",
       "    <tr>\n",
       "      <td>1</td>\n",
       "      <td>AIRMAIL</td>\n",
       "      <td>1 OUNCE RON DEL BARRILITO 3-STAR RUM</td>\n",
       "      <td>Shake all the ingredients (except the champagn...</td>\n",
       "    </tr>\n",
       "    <tr>\n",
       "      <td>1</td>\n",
       "      <td>AIRMAIL</td>\n",
       "      <td>½ OUNCE LIME JUICE</td>\n",
       "      <td>Shake all the ingredients (except the champagn...</td>\n",
       "    </tr>\n",
       "    <tr>\n",
       "      <td>1</td>\n",
       "      <td>AIRMAIL</td>\n",
       "      <td>½ OUNCE ACACIA HONEY SYRUP</td>\n",
       "      <td>Shake all the ingredients (except the champagn...</td>\n",
       "    </tr>\n",
       "    <tr>\n",
       "      <td>1</td>\n",
       "      <td>AIRMAIL</td>\n",
       "      <td>DRY CHAMPAGNE</td>\n",
       "      <td>Shake all the ingredients (except the champagn...</td>\n",
       "    </tr>\n",
       "    <tr>\n",
       "      <td>2</td>\n",
       "      <td>AVIATION</td>\n",
       "      <td>2 OUNCES PLYMOUTH GIN</td>\n",
       "      <td>Shake all the ingredients with ice, then strai...</td>\n",
       "    </tr>\n",
       "    <tr>\n",
       "      <td>2</td>\n",
       "      <td>AVIATION</td>\n",
       "      <td>½ OUNCE LUXARDO MARASCHINO LIQUEUR</td>\n",
       "      <td>Shake all the ingredients with ice, then strai...</td>\n",
       "    </tr>\n",
       "  </tbody>\n",
       "</table>\n",
       "</div>"
      ],
      "text/plain": [
       "    recipe_name                          recipe_ingredients                                      recipe_method\n",
       "0  20TH CENTURY          1½ OUNCES BEEFEATER LONDON DRY GIN  Shake all the ingredients with ice, then doubl...\n",
       "0  20TH CENTURY  ¾ OUNCE MARIE BRIZARD WHITE CRÈME DE CACAO  Shake all the ingredients with ice, then doubl...\n",
       "0  20TH CENTURY                    ¾ OUNCE COCCHI AMERICANO  Shake all the ingredients with ice, then doubl...\n",
       "0  20TH CENTURY                         ¾ OUNCE LEMON JUICE  Shake all the ingredients with ice, then doubl...\n",
       "1       AIRMAIL        1 OUNCE RON DEL BARRILITO 3-STAR RUM  Shake all the ingredients (except the champagn...\n",
       "1       AIRMAIL                          ½ OUNCE LIME JUICE  Shake all the ingredients (except the champagn...\n",
       "1       AIRMAIL                  ½ OUNCE ACACIA HONEY SYRUP  Shake all the ingredients (except the champagn...\n",
       "1       AIRMAIL                               DRY CHAMPAGNE  Shake all the ingredients (except the champagn...\n",
       "2      AVIATION                       2 OUNCES PLYMOUTH GIN  Shake all the ingredients with ice, then strai...\n",
       "2      AVIATION          ½ OUNCE LUXARDO MARASCHINO LIQUEUR  Shake all the ingredients with ice, then strai..."
      ]
     },
     "execution_count": 14,
     "metadata": {},
     "output_type": "execute_result"
    }
   ],
   "source": [
    "df = pd.DataFrame(recipes)\n",
    "\n",
    "# Explode ingredients list into individual rows creating a multi-index\n",
    "df = df.explode('recipe_ingredients')\n",
    "df.head(10)"
   ]
  },
  {
   "cell_type": "markdown",
   "metadata": {},
   "source": [
    "Write to file"
   ]
  },
  {
   "cell_type": "code",
   "execution_count": 12,
   "metadata": {
    "ExecuteTime": {
     "end_time": "2020-01-05T02:26:10.213065Z",
     "start_time": "2020-01-05T02:26:10.211065Z"
    }
   },
   "outputs": [],
   "source": [
    "#df.to_csv('output/death-co-recipes.csv', index=False, encoding='utf-8-sig')"
   ]
  },
  {
   "cell_type": "markdown",
   "metadata": {},
   "source": [
    "# Other books...WIP"
   ]
  },
  {
   "cell_type": "code",
   "execution_count": null,
   "metadata": {},
   "outputs": [],
   "source": []
  }
 ],
 "metadata": {
  "kernelspec": {
   "display_name": "Python 3",
   "language": "python",
   "name": "python3"
  },
  "language_info": {
   "codemirror_mode": {
    "name": "ipython",
    "version": 3
   },
   "file_extension": ".py",
   "mimetype": "text/x-python",
   "name": "python",
   "nbconvert_exporter": "python",
   "pygments_lexer": "ipython3",
   "version": "3.6.7"
  },
  "toc": {
   "base_numbering": 1,
   "nav_menu": {},
   "number_sections": true,
   "sideBar": true,
   "skip_h1_title": false,
   "title_cell": "Table of Contents",
   "title_sidebar": "Contents",
   "toc_cell": false,
   "toc_position": {},
   "toc_section_display": true,
   "toc_window_display": true
  }
 },
 "nbformat": 4,
 "nbformat_minor": 2
}
