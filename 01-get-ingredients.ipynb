{
 "cells": [
  {
   "cell_type": "markdown",
   "metadata": {},
   "source": [
    "# Initialize"
   ]
  },
  {
   "cell_type": "code",
   "execution_count": 1,
   "metadata": {
    "ExecuteTime": {
     "end_time": "2020-01-05T02:30:00.132546Z",
     "start_time": "2020-01-05T02:30:00.123047Z"
    }
   },
   "outputs": [
    {
     "data": {
      "text/plain": [
       "'C:\\\\Users\\\\Adrian\\\\Miniconda3\\\\envs\\\\cocktails\\\\python.exe'"
      ]
     },
     "execution_count": 1,
     "metadata": {},
     "output_type": "execute_result"
    }
   ],
   "source": [
    "import sys\n",
    "sys.executable"
   ]
  },
  {
   "cell_type": "code",
   "execution_count": 2,
   "metadata": {
    "ExecuteTime": {
     "end_time": "2020-01-05T02:30:01.047523Z",
     "start_time": "2020-01-05T02:30:00.134546Z"
    }
   },
   "outputs": [
    {
     "name": "stdout",
     "output_type": "stream",
     "text": [
      "Populating the interactive namespace from numpy and matplotlib\n"
     ]
    }
   ],
   "source": [
    "# Load plugins\n",
    "import numpy as np\n",
    "import pandas as pd \n",
    "import matplotlib.pyplot as plt\n",
    "from bs4 import BeautifulSoup\n",
    "import json\n",
    "\n",
    "# Set plugin options\n",
    "pd.set_option('display.max_rows', 500)\n",
    "pd.set_option('display.max_columns', 500)\n",
    "pd.set_option('display.width', 1000)\n",
    "pd.set_option('display.float_format', '{:.2f}'.format)\n",
    "%pylab inline\n",
    "pylab.rcParams['figure.figsize'] = (10, 6)\n",
    "\n",
    "# Set jupyter options\n",
    "from IPython.core.interactiveshell import InteractiveShell\n",
    "InteractiveShell.ast_node_interactivity = \"all\"\n",
    "#InteractiveShell.ast_node_interactivity = \"last_expr\""
   ]
  },
  {
   "cell_type": "markdown",
   "metadata": {},
   "source": [
    "# Scrape web"
   ]
  },
  {
   "cell_type": "code",
   "execution_count": 3,
   "metadata": {
    "ExecuteTime": {
     "end_time": "2020-01-05T02:30:01.240525Z",
     "start_time": "2020-01-05T02:30:01.049524Z"
    }
   },
   "outputs": [],
   "source": [
    "import requests\n",
    "import time"
   ]
  },
  {
   "cell_type": "markdown",
   "metadata": {},
   "source": [
    "## Get Categories"
   ]
  },
  {
   "cell_type": "markdown",
   "metadata": {},
   "source": [
    "First, get categories of products we wish to scrape from the website homepage"
   ]
  },
  {
   "cell_type": "code",
   "execution_count": 4,
   "metadata": {
    "ExecuteTime": {
     "end_time": "2020-01-05T02:30:01.492732Z",
     "start_time": "2020-01-05T02:30:01.242020Z"
    }
   },
   "outputs": [
    {
     "data": {
      "text/plain": [
       "<Response [200]>"
      ]
     },
     "execution_count": 4,
     "metadata": {},
     "output_type": "execute_result"
    }
   ],
   "source": [
    "home_url = \"https://www.thewhiskyexchange.com/\"\n",
    "#url2 = 'https://www.thewhiskyexchange.com/c/338/gin?filter=true&rfdata=#productlist-filter'\n",
    "response = requests.get(home_url)\n",
    "response"
   ]
  },
  {
   "cell_type": "code",
   "execution_count": 5,
   "metadata": {
    "ExecuteTime": {
     "end_time": "2020-01-05T02:30:01.617726Z",
     "start_time": "2020-01-05T02:30:01.496230Z"
    }
   },
   "outputs": [],
   "source": [
    "home_soup = BeautifulSoup(response.text, \"html.parser\")\n",
    "# Preview\n",
    "#home_soup"
   ]
  },
  {
   "cell_type": "code",
   "execution_count": 6,
   "metadata": {
    "ExecuteTime": {
     "end_time": "2020-01-05T02:30:01.644724Z",
     "start_time": "2020-01-05T02:30:01.619225Z"
    },
    "scrolled": true
   },
   "outputs": [
    {
     "name": "stdout",
     "output_type": "stream",
     "text": [
      "11\n"
     ]
    }
   ],
   "source": [
    "# Get all of the top menu links\n",
    "menu_top_links = home_soup.find_all('li', class_='nav-bar__item js--navitem')\n",
    "\n",
    "# Verify length\n",
    "print(len(menu_top_links))"
   ]
  },
  {
   "cell_type": "markdown",
   "metadata": {},
   "source": [
    "Of the 11 main website menu links, we only want to access specific ones: Whiskey, Spirits & Liqueurs, etc."
   ]
  },
  {
   "cell_type": "code",
   "execution_count": 7,
   "metadata": {
    "ExecuteTime": {
     "end_time": "2020-01-05T02:30:01.674288Z",
     "start_time": "2020-01-05T02:30:01.647224Z"
    }
   },
   "outputs": [],
   "source": [
    "# Get Spirits\n",
    "\n",
    "# Store only 6th element for now, as we know that is for the category \"Spirits & Liqueurs\"\n",
    "sl = menu_top_links[5]\n",
    "\n",
    "# Keep only the portion of the header that we are interested in\n",
    "spirits = sl.find('h3', text='Shop by Spirit\\n').parent.parent\n",
    "liqueurs = sl.find('h3', text='Liqueurs\\n').parent.findNext('div')\n",
    "\n",
    "# Combine spirits and liqueurs\n",
    "spirits_liqueurs = str(spirits) + str(liqueurs)\n",
    "spirits_liqueurs = BeautifulSoup(spirits_liqueurs, \"html.parser\")\n",
    "\n",
    "# Get all categories and children (if any)\n",
    "spirits_liqueurs_cat = spirits_liqueurs.find_all(lambda tag: tag.name == 'ul' and tag.get('class') == ['nav-panel__list'])"
   ]
  },
  {
   "cell_type": "code",
   "execution_count": 8,
   "metadata": {
    "ExecuteTime": {
     "end_time": "2020-01-05T02:30:01.681287Z",
     "start_time": "2020-01-05T02:30:01.675788Z"
    }
   },
   "outputs": [],
   "source": [
    "# Get Whiskey\n",
    "\n",
    "# Store only 6th element for now, as we know that is for the category \"Spirits & Liqueurs\"\n",
    "whiskey = menu_top_links[4]\n",
    "\n",
    "# Keep only the portion of the header that we are interested in\n",
    "whiskey = whiskey.find('h3', text='Shop by Type\\n').parent.parent\n",
    "\n",
    "# Get all categories and children (if any)\n",
    "whiskey_cat = whiskey.find_all(lambda tag: tag.name == 'ul' and tag.get('class') == ['nav-panel__list'])"
   ]
  },
  {
   "cell_type": "code",
   "execution_count": 9,
   "metadata": {
    "ExecuteTime": {
     "end_time": "2020-01-05T02:30:01.688287Z",
     "start_time": "2020-01-05T02:30:01.682787Z"
    }
   },
   "outputs": [],
   "source": [
    "# Get Scotch\n",
    "\n",
    "# Store only 6th element for now, as we know that is for the category \"Spirits & Liqueurs\"\n",
    "scotch = menu_top_links[3]\n",
    "\n",
    "# Keep only the portion of the header that we are interested in\n",
    "scotch = scotch.find('h3', text='Shop by Type\\n').parent.parent\n",
    "\n",
    "# Get all categories and children (if any)\n",
    "scotch_cat = scotch.find_all(lambda tag: tag.name == 'ul' and tag.get('class') == ['nav-panel__list'])"
   ]
  },
  {
   "cell_type": "markdown",
   "metadata": {},
   "source": [
    "Define function to loop through each menu link and extract all relevant categories and subcategories.\n",
    "- Ex: Menu link --> \"Spirits and Liqueurs\"\n",
    "- Category: \"Cognac\"\n",
    "- Subcategory: \"XO Cognac\""
   ]
  },
  {
   "cell_type": "code",
   "execution_count": 10,
   "metadata": {
    "ExecuteTime": {
     "end_time": "2020-01-05T02:32:01.749106Z",
     "start_time": "2020-01-05T02:32:01.741106Z"
    }
   },
   "outputs": [],
   "source": [
    "def get_categories(category_tags):\n",
    "    categories = []\n",
    "    for i, cat in enumerate(category_tags):\n",
    "        # Create temporary dictionary to category info\n",
    "        cat_dict = {}\n",
    "\n",
    "        # Get category info\n",
    "        cat_dict['category_name'] = cat.find(lambda tag: tag.name == 'a' and tag.get('class') == ['nav-link']).text.strip()\n",
    "        cat_dict['category_link'] = cat.find(lambda tag: tag.name == 'a' and tag.get('class') == ['nav-link']).get('href')\n",
    "\n",
    "        # Get subcategory info (if it exists)\n",
    "        sl_subcat = cat.find_all('a', class_='nav-link--sub-link')\n",
    "        subcat_list = []\n",
    "\n",
    "        for j, subcat in enumerate(sl_subcat):\n",
    "            subcat_dict = {}\n",
    "            subcat_dict['subcategory_name'] = subcat.text.strip()\n",
    "            subcat_dict['subcategory_link'] = subcat.get('href')\n",
    "            subcat_list.append(subcat_dict)\n",
    "\n",
    "        cat_dict['subcategories'] = subcat_list\n",
    "\n",
    "        # Append dictionary to df\n",
    "        categories.append(cat_dict)\n",
    "    return categories"
   ]
  },
  {
   "cell_type": "code",
   "execution_count": 11,
   "metadata": {
    "ExecuteTime": {
     "end_time": "2020-01-05T02:32:02.608095Z",
     "start_time": "2020-01-05T02:32:02.596595Z"
    }
   },
   "outputs": [],
   "source": [
    "categories_master = []\n",
    "categories_master.append(get_categories(spirits_liqueurs_cat))\n",
    "categories_master.append(get_categories(whiskey_cat))\n",
    "categories_master.append(get_categories(scotch_cat))"
   ]
  },
  {
   "cell_type": "code",
   "execution_count": 13,
   "metadata": {
    "ExecuteTime": {
     "end_time": "2020-01-05T02:33:33.858170Z",
     "start_time": "2020-01-05T02:33:33.854670Z"
    }
   },
   "outputs": [],
   "source": [
    "# Flatten list by 1 level to remove the \"menu level\" that is no longer needed\n",
    "categories_master_flat = []\n",
    "for sublist in categories_master:\n",
    "    for item in sublist:\n",
    "        categories_master_flat.append(item)"
   ]
  },
  {
   "cell_type": "code",
   "execution_count": 16,
   "metadata": {
    "ExecuteTime": {
     "end_time": "2020-01-05T02:34:20.783643Z",
     "start_time": "2020-01-05T02:34:20.779144Z"
    },
    "scrolled": true
   },
   "outputs": [
    {
     "name": "stdout",
     "output_type": "stream",
     "text": [
      "[\n",
      "    {\n",
      "        \"category_name\": \"Cognac\",\n",
      "        \"category_link\": \"/c/351/cognac\",\n",
      "        \"subcategories\": [\n",
      "            {\n",
      "                \"subcategory_name\": \"VS\",\n",
      "                \"subcategory_link\": \"/c/352/vs-cognac\"\n",
      "            },\n",
      "            {\n",
      "                \"subcategory_name\": \"VSOP\",\n",
      "                \"subcategory_link\": \"/c/354/vsop-cognac\"\n",
      "            },\n",
      "            {\n",
      "                \"subcategory_name\": \"XO and Napoléon\",\n",
      "                \"subcategory_link\": \"/c/433/xo-and-napoleon-cognac\"\n",
      "            },\n",
      "            {\n",
      "                \"subcategory_name\": \"Special Cuvée\",\n",
      "                \"subcategory_link\": \"/c/432/special-cuvee-cognac\"\n",
      "            },\n",
      "            {\n",
      "                \"subcategory_name\": \"Vintage\",\n",
      "                \"subcategory_link\": \"/c/628/vintage-cognac\"\n",
      "            },\n",
      "            {\n",
      "                \"subcategory_name\": \"Prestige\",\n",
      "                \"subcategory_link\": \"/c/353/prestige-cognac\"\n",
      "            }\n",
      "        ]\n",
      "    },\n",
      "    {\n",
      "        \"category_name\": \"Armagnac\",\n",
      "        \"category_link\": \"/c/355/armagnac\",\n",
      "        \"subcategories\": [\n",
      "            {\n",
      "                \"subcategory_name\": \"Cuvée\",\n",
      "                \"subcategory_link\": \"/c/356/cuvee-armagnac\"\n",
      "            },\n",
      "            {\n",
      "                \"subcategory_name\": \"Vintage\",\n",
      "                \"subcategory_link\": \"/c/357/vintage-armagnac\"\n",
      "            }\n",
      "        ]\n",
      "    },\n",
      "    {\n",
      "        \"category_name\": \"Calvados/Cider Brandy\",\n",
      "        \"category_link\": \"/c/369/calvados-and-cider-brandy\",\n",
      "        \"subcategories\": []\n",
      "    }\n",
      "]\n"
     ]
    }
   ],
   "source": [
    "# Preview\n",
    "print(json.dumps([x for x in categories_master_flat[0:3]], sort_keys=False, indent=4, ensure_ascii=False))"
   ]
  },
  {
   "cell_type": "code",
   "execution_count": 15,
   "metadata": {},
   "outputs": [
    {
     "name": "stdout",
     "output_type": "stream",
     "text": [
      "Distillery Bottlings\n",
      "{'category_name': 'Distillery Bottlings', 'category_link': '/c/40/single-malt-scotch-whisky?filter=true&rfdata=~bottler.Distillery_Bottling', 'subcategories': []}\n",
      "Independent Bottlings\n",
      "{'category_name': 'Independent Bottlings', 'category_link': '/c/40/single-malt-scotch-whisky?filter=true&rfdata=~bottler.Independent_Bottling', 'subcategories': []}\n"
     ]
    }
   ],
   "source": [
    "# TODO - Optimize this section\n",
    "del_list = []\n",
    "\n",
    "# Create list of items to be deleted\n",
    "for category in categories_master_flat:\n",
    "    # Loop through all key value pairs in a category\n",
    "    for cat_key, cat_value in list(category.items()):\n",
    "        if cat_value == \"Distillery Bottlings\" or cat_value == \"Independent Bottlings\":  \n",
    "            print(cat_value)\n",
    "            print(category)\n",
    "            del_list.append(category)\n",
    "\n",
    "# Delete items\n",
    "categories_master_flat = [item for item in categories_master_flat if item not in del_list]"
   ]
  },
  {
   "cell_type": "code",
   "execution_count": 17,
   "metadata": {
    "ExecuteTime": {
     "end_time": "2020-01-05T02:37:27.942412Z",
     "start_time": "2020-01-05T02:37:27.938411Z"
    },
    "scrolled": true
   },
   "outputs": [
    {
     "name": "stdout",
     "output_type": "stream",
     "text": [
      "[\n",
      "    {\n",
      "        \"category_name\": \"Cognac\",\n",
      "        \"category_link\": \"/c/351/cognac\",\n",
      "        \"subcategories\": [\n",
      "            {\n",
      "                \"subcategory_name\": \"VS\",\n",
      "                \"subcategory_link\": \"/c/352/vs-cognac\"\n",
      "            },\n",
      "            {\n",
      "                \"subcategory_name\": \"VSOP\",\n",
      "                \"subcategory_link\": \"/c/354/vsop-cognac\"\n",
      "            },\n",
      "            {\n",
      "                \"subcategory_name\": \"XO and Napoléon\",\n",
      "                \"subcategory_link\": \"/c/433/xo-and-napoleon-cognac\"\n",
      "            },\n",
      "            {\n",
      "                \"subcategory_name\": \"Special Cuvée\",\n",
      "                \"subcategory_link\": \"/c/432/special-cuvee-cognac\"\n",
      "            },\n",
      "            {\n",
      "                \"subcategory_name\": \"Vintage\",\n",
      "                \"subcategory_link\": \"/c/628/vintage-cognac\"\n",
      "            },\n",
      "            {\n",
      "                \"subcategory_name\": \"Prestige\",\n",
      "                \"subcategory_link\": \"/c/353/prestige-cognac\"\n",
      "            }\n",
      "        ]\n",
      "    },\n",
      "    {\n",
      "        \"category_name\": \"Armagnac\",\n",
      "        \"category_link\": \"/c/355/armagnac\",\n",
      "        \"subcategories\": [\n",
      "            {\n",
      "                \"subcategory_name\": \"Cuvée\",\n",
      "                \"subcategory_link\": \"/c/356/cuvee-armagnac\"\n",
      "            },\n",
      "            {\n",
      "                \"subcategory_name\": \"Vintage\",\n",
      "                \"subcategory_link\": \"/c/357/vintage-armagnac\"\n",
      "            }\n",
      "        ]\n",
      "    },\n",
      "    {\n",
      "        \"category_name\": \"Calvados/Cider Brandy\",\n",
      "        \"category_link\": \"/c/369/calvados-and-cider-brandy\",\n",
      "        \"subcategories\": []\n",
      "    }\n",
      "]\n"
     ]
    }
   ],
   "source": [
    "# Preview modified list\n",
    "print(json.dumps([x for x in categories_master_flat[0:3]], sort_keys=False, indent=4, ensure_ascii=False))"
   ]
  },
  {
   "cell_type": "markdown",
   "metadata": {},
   "source": [
    "## Get bottles"
   ]
  },
  {
   "cell_type": "markdown",
   "metadata": {},
   "source": [
    "Define function to extract all bottles and description for each category/subcategory in our defined product heirarchy"
   ]
  },
  {
   "cell_type": "code",
   "execution_count": 18,
   "metadata": {
    "ExecuteTime": {
     "end_time": "2020-01-05T02:40:15.018693Z",
     "start_time": "2020-01-05T02:40:15.009693Z"
    }
   },
   "outputs": [],
   "source": [
    "def get_bottles(url_base):\n",
    "    # Request page\n",
    "    product_url = \"https://www.thewhiskyexchange.com/\"+url_base+'?status=no#productlist-filter'\n",
    "    cookies = dict(rtwe_paging='pagesize=200', rtwe_viewmode='mode=list')\n",
    "    response = requests.get(product_url, cookies=cookies)\n",
    "    # Get page soup\n",
    "    product_soup = BeautifulSoup(response.text, \"html.parser\")\n",
    "    # Get number of pages\n",
    "    pages = product_soup.find_all('a', class_='page-link')\n",
    "    if not pages:\n",
    "        max_pages = 1\n",
    "    else:\n",
    "        max_pages = int(pages[len(pages)-2].text)\n",
    "    # Empty dictionary to store all found products\n",
    "    products_list = []\n",
    "    # Loop through all pages and store products + description in dictionary\n",
    "    for i in range(1, max_pages+1):\n",
    "        # Convert i to character, as required for string manipulation in the URL below\n",
    "        pg = str(i)\n",
    "        # Request page\n",
    "        product_url = \"https://www.thewhiskyexchange.com/\"+url_base+'?pg='+pg+'&status=no#productlist-filter'\n",
    "        cookies = dict(rtwe_paging='pagesize=200', rtwe_viewmode='mode=list')\n",
    "        response = requests.get(product_url, cookies=cookies)\n",
    "        # Get page soup\n",
    "        product_soup = BeautifulSoup(response.text, \"html.parser\")\n",
    "        # Find tags for all products\n",
    "        products_soup = product_soup.find_all('div', class_='information')\n",
    "        for single_product_soup in products_soup:\n",
    "            # Create empty dictionary to store product\n",
    "            product_info={}\n",
    "            # Get name and description\n",
    "            product_info['product_name'] = single_product_soup.find('p', class_='name').find(text=True, recursive=False).strip()\n",
    "            product_info['product_description'] = single_product_soup.find('p', class_='description').text\n",
    "            # Store in list\n",
    "            products_list.append(product_info)  \n",
    "    return products_list"
   ]
  },
  {
   "cell_type": "markdown",
   "metadata": {},
   "source": [
    "Traverse product heirarchy and populate with extracted bottles"
   ]
  },
  {
   "cell_type": "code",
   "execution_count": 19,
   "metadata": {
    "ExecuteTime": {
     "end_time": "2020-01-05T02:44:33.058710Z",
     "start_time": "2020-01-05T02:40:18.064174Z"
    },
    "scrolled": true
   },
   "outputs": [],
   "source": [
    "# Loop through each category\n",
    "for category in categories_master_flat:\n",
    "    # Loop through all key value pairs in a category\n",
    "    for cat_key, cat_value in list(category.items()):\n",
    "        # See if any subcategories exist, if not, just print the CATEGORY url\n",
    "        if cat_key == \"subcategories\" and len(cat_value) == 0:            \n",
    "            listForm = list(category.values())\n",
    "            temp_dict = {}\n",
    "            temp_dict['bottles'] = get_bottles(listForm[1])\n",
    "            cat_value.append(temp_dict)\n",
    "        # if any subcategories do exist, do not print the CATEGORY url, begin to loop through the list of SUBCATEGORIES\n",
    "        elif cat_key == \"subcategories\" and len(cat_value) != 0:\n",
    "            # Loop through list of categories\n",
    "            for subcategory in cat_value:\n",
    "                # Loop through all key value pairs in a subcategory\n",
    "                for subcat_key, subcat_value in list(subcategory.items()):\n",
    "                    # Print the SUBCATEGORY url\n",
    "                    if subcat_key == \"subcategory_link\":\n",
    "                        subcategory['bottles'] = get_bottles(subcat_value)\n",
    "    import time\n",
    "    time.sleep(2)"
   ]
  },
  {
   "cell_type": "code",
   "execution_count": 41,
   "metadata": {
    "ExecuteTime": {
     "end_time": "2020-01-05T02:59:28.029665Z",
     "start_time": "2020-01-05T02:59:27.953167Z"
    },
    "scrolled": true
   },
   "outputs": [
    {
     "name": "stdout",
     "output_type": "stream",
     "text": [
      "[\n",
      "    {\n",
      "        \"category_name\": \"Cognac\",\n",
      "        \"category_link\": \"/c/351/cognac\",\n",
      "        \"subcategories\": [\n",
      "            {\n",
      "                \"subcategory_name\": \"VS\",\n",
      "                \"subcategory_link\": \"/c/352/vs-cognac\",\n",
      "                \"bottles\": [\n",
      "                    {\n",
      "                        \"product_name\": \"Hennessy VS Cognac\",\n",
      "                        \"product_description\": \"A 20cl bottle of Hennessy VS. This ever popular entry level cognac from one of the big players in the market, this is ideal for use with a mixer.\"\n",
      "                    },\n",
      "                    {\n",
      "                        \"product_name\": \"Bache Gabrielsen Tre Kors VS Cognac\",\n",
      "                        \"product_description\": \"Tre Kors means 'three crosses' in Norwegian and the name was carefully chosen – when Norway banned distilled spirits in 1916, Thomas Bache-Gabrielsen, who was Norweigan by birth, added the crosses to symbolise the fight against disease. This was because distilled spirits could still be sold in pharmacies for medicinal purposes, and in no time at all Tre Kors Cognac became the most-prescribed remedy for illness!\"\n",
      "                    },\n",
      "                    {\n",
      "                        \"product_name\": \"Courvoisier VS Cognac\",\n",
      "                        \"product_description\": \"World-famous VS from one of the 'Big Four' producers. Famously eulogized by Busta Rhymes in 'Pass the Courvoisier'.\"\n",
      "                    },\n",
      "                    {\n",
      "                        \"product_name\": \"Martell VS Cognac\",\n",
      "                        \"product_description\": \"One of the most recognisable brands in the world, this is the foundation of Martell's enormous international success and works well on its own or in cocktails.\"\n",
      "                    },\n",
      "                    {\n",
      "                        \"product_name\": \"Bache Gabrielsen VS Cognac\",\n",
      "                        \"product_description\": \"Tre Kors means 'three crosses' in Norwegian and the name was carefully chosen – when Norway banned distilled spirits in 1916, Thomas Bache-Gabrielsen, who was Norweigan by birth, added the crosses to symbolise the fight against disease. This was because distilled spirits could still be sold in pharmacies for medicinal purposes, and in no time at all Tre Kors Cognac became the most-prescribed remedy for illness!\"\n",
      "                    },\n",
      "                    {\n",
      "                        \"product_name\": \"Chateau de Montifaud VS Fine Petite Champagne Cognac\",\n",
      "                        \"product_description\": \"A fresh and youthful Cognac, Montuifaud's VS has notes of pear, apple and linden flowers. This versatile brandy can be enjoyed over ice, with a mixer, or in cocktails.\"\n",
      "                    },\n",
      "                    {\n",
      "                        \"product_name\": \"Maxime Trijol VS Cognac\",\n",
      "                        \"product_description\": \"The entry point into the Maxime Trijol, their VS cognac is rich and full of fruit and floral notes, making it perfect for sipping, cocktails or long drinks.\"\n",
      "                    },\n",
      "            \n"
     ]
    }
   ],
   "source": [
    "# Preview\n",
    "print(json.dumps([x for x in categories_master_flat], sort_keys=False, indent=4, ensure_ascii=False)[:3000])"
   ]
  },
  {
   "cell_type": "code",
   "execution_count": 27,
   "metadata": {
    "ExecuteTime": {
     "end_time": "2020-01-05T02:55:57.026180Z",
     "start_time": "2020-01-05T02:55:56.849685Z"
    }
   },
   "outputs": [],
   "source": [
    "# Export to JSON file for inspection\n",
    "with open('data.json', 'w') as f:\n",
    "  json.dump(categories_master_flat, f, sort_keys=False, indent=4, ensure_ascii=False)"
   ]
  },
  {
   "cell_type": "markdown",
   "metadata": {},
   "source": [
    "Flatten all of this shit (will be needed at some point)"
   ]
  },
  {
   "cell_type": "code",
   "execution_count": 48,
   "metadata": {
    "ExecuteTime": {
     "end_time": "2020-01-05T03:16:46.543981Z",
     "start_time": "2020-01-05T03:16:42.850072Z"
    },
    "scrolled": true
   },
   "outputs": [
    {
     "data": {
      "text/html": [
       "<div>\n",
       "<style scoped>\n",
       "    .dataframe tbody tr th:only-of-type {\n",
       "        vertical-align: middle;\n",
       "    }\n",
       "\n",
       "    .dataframe tbody tr th {\n",
       "        vertical-align: top;\n",
       "    }\n",
       "\n",
       "    .dataframe thead th {\n",
       "        text-align: right;\n",
       "    }\n",
       "</style>\n",
       "<table border=\"1\" class=\"dataframe\">\n",
       "  <thead>\n",
       "    <tr style=\"text-align: right;\">\n",
       "      <th></th>\n",
       "      <th>category_name</th>\n",
       "      <th>category_link</th>\n",
       "      <th>subcategory_name</th>\n",
       "      <th>subcategory_link</th>\n",
       "      <th>0</th>\n",
       "      <th>product_description</th>\n",
       "      <th>product_name</th>\n",
       "    </tr>\n",
       "  </thead>\n",
       "  <tbody>\n",
       "    <tr>\n",
       "      <td>0</td>\n",
       "      <td>Cognac</td>\n",
       "      <td>/c/351/cognac</td>\n",
       "      <td>VS</td>\n",
       "      <td>/c/352/vs-cognac</td>\n",
       "      <td>nan</td>\n",
       "      <td>A 20cl bottle of Hennessy VS. This ever popula...</td>\n",
       "      <td>Hennessy VS Cognac</td>\n",
       "    </tr>\n",
       "    <tr>\n",
       "      <td>1</td>\n",
       "      <td>Cognac</td>\n",
       "      <td>/c/351/cognac</td>\n",
       "      <td>VS</td>\n",
       "      <td>/c/352/vs-cognac</td>\n",
       "      <td>nan</td>\n",
       "      <td>Tre Kors means 'three crosses' in Norwegian an...</td>\n",
       "      <td>Bache Gabrielsen Tre Kors VS Cognac</td>\n",
       "    </tr>\n",
       "    <tr>\n",
       "      <td>2</td>\n",
       "      <td>Cognac</td>\n",
       "      <td>/c/351/cognac</td>\n",
       "      <td>VS</td>\n",
       "      <td>/c/352/vs-cognac</td>\n",
       "      <td>nan</td>\n",
       "      <td>World-famous VS from one of the 'Big Four' pro...</td>\n",
       "      <td>Courvoisier VS Cognac</td>\n",
       "    </tr>\n",
       "    <tr>\n",
       "      <td>3</td>\n",
       "      <td>Cognac</td>\n",
       "      <td>/c/351/cognac</td>\n",
       "      <td>VS</td>\n",
       "      <td>/c/352/vs-cognac</td>\n",
       "      <td>nan</td>\n",
       "      <td>One of the most recognisable brands in the wor...</td>\n",
       "      <td>Martell VS Cognac</td>\n",
       "    </tr>\n",
       "    <tr>\n",
       "      <td>4</td>\n",
       "      <td>Cognac</td>\n",
       "      <td>/c/351/cognac</td>\n",
       "      <td>VS</td>\n",
       "      <td>/c/352/vs-cognac</td>\n",
       "      <td>nan</td>\n",
       "      <td>Tre Kors means 'three crosses' in Norwegian an...</td>\n",
       "      <td>Bache Gabrielsen VS Cognac</td>\n",
       "    </tr>\n",
       "    <tr>\n",
       "      <td>5</td>\n",
       "      <td>Cognac</td>\n",
       "      <td>/c/351/cognac</td>\n",
       "      <td>VS</td>\n",
       "      <td>/c/352/vs-cognac</td>\n",
       "      <td>nan</td>\n",
       "      <td>A fresh and youthful Cognac, Montuifaud's VS h...</td>\n",
       "      <td>Chateau de Montifaud VS Fine Petite Champagne ...</td>\n",
       "    </tr>\n",
       "    <tr>\n",
       "      <td>6</td>\n",
       "      <td>Cognac</td>\n",
       "      <td>/c/351/cognac</td>\n",
       "      <td>VS</td>\n",
       "      <td>/c/352/vs-cognac</td>\n",
       "      <td>nan</td>\n",
       "      <td>The entry point into the Maxime Trijol, their ...</td>\n",
       "      <td>Maxime Trijol VS Cognac</td>\n",
       "    </tr>\n",
       "    <tr>\n",
       "      <td>7</td>\n",
       "      <td>Cognac</td>\n",
       "      <td>/c/351/cognac</td>\n",
       "      <td>VS</td>\n",
       "      <td>/c/352/vs-cognac</td>\n",
       "      <td>nan</td>\n",
       "      <td>Benchmark VS from one of Cognac's 'Big Four' p...</td>\n",
       "      <td>Hennessy VS Cognac</td>\n",
       "    </tr>\n",
       "    <tr>\n",
       "      <td>8</td>\n",
       "      <td>Cognac</td>\n",
       "      <td>/c/351/cognac</td>\n",
       "      <td>VS</td>\n",
       "      <td>/c/352/vs-cognac</td>\n",
       "      <td>nan</td>\n",
       "      <td>Matured in virgin Limousin-oak casks for at le...</td>\n",
       "      <td>François Voyer VS Cognac</td>\n",
       "    </tr>\n",
       "    <tr>\n",
       "      <td>9</td>\n",
       "      <td>Cognac</td>\n",
       "      <td>/c/351/cognac</td>\n",
       "      <td>VS</td>\n",
       "      <td>/c/352/vs-cognac</td>\n",
       "      <td>nan</td>\n",
       "      <td>An intense yet smooth three-year-old VS Cognac...</td>\n",
       "      <td>Vallein-Tercinier VS Selection Cognac</td>\n",
       "    </tr>\n",
       "    <tr>\n",
       "      <td>10</td>\n",
       "      <td>Cognac</td>\n",
       "      <td>/c/351/cognac</td>\n",
       "      <td>VS</td>\n",
       "      <td>/c/352/vs-cognac</td>\n",
       "      <td>nan</td>\n",
       "      <td>A well rounded and floral VS cognac from Louis...</td>\n",
       "      <td>Louis Royer VS Cognac</td>\n",
       "    </tr>\n",
       "    <tr>\n",
       "      <td>11</td>\n",
       "      <td>Cognac</td>\n",
       "      <td>/c/351/cognac</td>\n",
       "      <td>VS</td>\n",
       "      <td>/c/352/vs-cognac</td>\n",
       "      <td>nan</td>\n",
       "      <td>ABK6 is a modern Cognac house run by Francis A...</td>\n",
       "      <td>ABK6 VS Single Estate Cognac</td>\n",
       "    </tr>\n",
       "    <tr>\n",
       "      <td>12</td>\n",
       "      <td>Cognac</td>\n",
       "      <td>/c/351/cognac</td>\n",
       "      <td>VS</td>\n",
       "      <td>/c/352/vs-cognac</td>\n",
       "      <td>nan</td>\n",
       "      <td>A single estate cognac from the same stable as...</td>\n",
       "      <td>Domaine Le Reviseur VS Petite Champagne Cognac</td>\n",
       "    </tr>\n",
       "    <tr>\n",
       "      <td>13</td>\n",
       "      <td>Cognac</td>\n",
       "      <td>/c/351/cognac</td>\n",
       "      <td>VS</td>\n",
       "      <td>/c/352/vs-cognac</td>\n",
       "      <td>nan</td>\n",
       "      <td>A single vineyard VS Cognac from the top cru i...</td>\n",
       "      <td>Jean Fillioux VS Cognac</td>\n",
       "    </tr>\n",
       "    <tr>\n",
       "      <td>14</td>\n",
       "      <td>Cognac</td>\n",
       "      <td>/c/351/cognac</td>\n",
       "      <td>VS</td>\n",
       "      <td>/c/352/vs-cognac</td>\n",
       "      <td>nan</td>\n",
       "      <td>A fresh and fruity VS Cognac from AE Dor. This...</td>\n",
       "      <td>A E Dor Selection VS Cognac</td>\n",
       "    </tr>\n",
       "    <tr>\n",
       "      <td>15</td>\n",
       "      <td>Cognac</td>\n",
       "      <td>/c/351/cognac</td>\n",
       "      <td>VS</td>\n",
       "      <td>/c/352/vs-cognac</td>\n",
       "      <td>nan</td>\n",
       "      <td>Created as a tribute to the long history of Fr...</td>\n",
       "      <td>Frapin 1270 Premier Cru Grande Champagne Cognac</td>\n",
       "    </tr>\n",
       "    <tr>\n",
       "      <td>16</td>\n",
       "      <td>Cognac</td>\n",
       "      <td>/c/351/cognac</td>\n",
       "      <td>VS</td>\n",
       "      <td>/c/352/vs-cognac</td>\n",
       "      <td>nan</td>\n",
       "      <td>This single estate cognac comes from the Fin B...</td>\n",
       "      <td>Leyrat Assemblage No.1 VS Cognac</td>\n",
       "    </tr>\n",
       "    <tr>\n",
       "      <td>17</td>\n",
       "      <td>Cognac</td>\n",
       "      <td>/c/351/cognac</td>\n",
       "      <td>VS</td>\n",
       "      <td>/c/352/vs-cognac</td>\n",
       "      <td>nan</td>\n",
       "      <td>Quality entry-level offering from this prestig...</td>\n",
       "      <td>Ragnaud Sabourin Alliance No.4 VS Cognac</td>\n",
       "    </tr>\n",
       "    <tr>\n",
       "      <td>18</td>\n",
       "      <td>Cognac</td>\n",
       "      <td>/c/351/cognac</td>\n",
       "      <td>VSOP</td>\n",
       "      <td>/c/354/vsop-cognac</td>\n",
       "      <td>nan</td>\n",
       "      <td>A 20cl bottle of Camus' very fine Grand VSOP i...</td>\n",
       "      <td>Camus Grand VSOP Cognac</td>\n",
       "    </tr>\n",
       "    <tr>\n",
       "      <td>19</td>\n",
       "      <td>Cognac</td>\n",
       "      <td>/c/351/cognac</td>\n",
       "      <td>VSOP</td>\n",
       "      <td>/c/354/vsop-cognac</td>\n",
       "      <td>nan</td>\n",
       "      <td>A smaller bottle of the acclaimed Cognac H by ...</td>\n",
       "      <td>H by Hine VSOP Cognac</td>\n",
       "    </tr>\n",
       "  </tbody>\n",
       "</table>\n",
       "</div>"
      ],
      "text/plain": [
       "   category_name  category_link subcategory_name    subcategory_link   0                                product_description                                       product_name\n",
       "0         Cognac  /c/351/cognac               VS    /c/352/vs-cognac nan  A 20cl bottle of Hennessy VS. This ever popula...                                 Hennessy VS Cognac\n",
       "1         Cognac  /c/351/cognac               VS    /c/352/vs-cognac nan  Tre Kors means 'three crosses' in Norwegian an...                Bache Gabrielsen Tre Kors VS Cognac\n",
       "2         Cognac  /c/351/cognac               VS    /c/352/vs-cognac nan  World-famous VS from one of the 'Big Four' pro...                              Courvoisier VS Cognac\n",
       "3         Cognac  /c/351/cognac               VS    /c/352/vs-cognac nan  One of the most recognisable brands in the wor...                                  Martell VS Cognac\n",
       "4         Cognac  /c/351/cognac               VS    /c/352/vs-cognac nan  Tre Kors means 'three crosses' in Norwegian an...                         Bache Gabrielsen VS Cognac\n",
       "5         Cognac  /c/351/cognac               VS    /c/352/vs-cognac nan  A fresh and youthful Cognac, Montuifaud's VS h...  Chateau de Montifaud VS Fine Petite Champagne ...\n",
       "6         Cognac  /c/351/cognac               VS    /c/352/vs-cognac nan  The entry point into the Maxime Trijol, their ...                            Maxime Trijol VS Cognac\n",
       "7         Cognac  /c/351/cognac               VS    /c/352/vs-cognac nan  Benchmark VS from one of Cognac's 'Big Four' p...                                 Hennessy VS Cognac\n",
       "8         Cognac  /c/351/cognac               VS    /c/352/vs-cognac nan  Matured in virgin Limousin-oak casks for at le...                           François Voyer VS Cognac\n",
       "9         Cognac  /c/351/cognac               VS    /c/352/vs-cognac nan  An intense yet smooth three-year-old VS Cognac...              Vallein-Tercinier VS Selection Cognac\n",
       "10        Cognac  /c/351/cognac               VS    /c/352/vs-cognac nan  A well rounded and floral VS cognac from Louis...                              Louis Royer VS Cognac\n",
       "11        Cognac  /c/351/cognac               VS    /c/352/vs-cognac nan  ABK6 is a modern Cognac house run by Francis A...                       ABK6 VS Single Estate Cognac\n",
       "12        Cognac  /c/351/cognac               VS    /c/352/vs-cognac nan  A single estate cognac from the same stable as...     Domaine Le Reviseur VS Petite Champagne Cognac\n",
       "13        Cognac  /c/351/cognac               VS    /c/352/vs-cognac nan  A single vineyard VS Cognac from the top cru i...                            Jean Fillioux VS Cognac\n",
       "14        Cognac  /c/351/cognac               VS    /c/352/vs-cognac nan  A fresh and fruity VS Cognac from AE Dor. This...                        A E Dor Selection VS Cognac\n",
       "15        Cognac  /c/351/cognac               VS    /c/352/vs-cognac nan  Created as a tribute to the long history of Fr...    Frapin 1270 Premier Cru Grande Champagne Cognac\n",
       "16        Cognac  /c/351/cognac               VS    /c/352/vs-cognac nan  This single estate cognac comes from the Fin B...                   Leyrat Assemblage No.1 VS Cognac\n",
       "17        Cognac  /c/351/cognac               VS    /c/352/vs-cognac nan  Quality entry-level offering from this prestig...           Ragnaud Sabourin Alliance No.4 VS Cognac\n",
       "18        Cognac  /c/351/cognac             VSOP  /c/354/vsop-cognac nan  A 20cl bottle of Camus' very fine Grand VSOP i...                            Camus Grand VSOP Cognac\n",
       "19        Cognac  /c/351/cognac             VSOP  /c/354/vsop-cognac nan  A smaller bottle of the acclaimed Cognac H by ...                              H by Hine VSOP Cognac"
      ]
     },
     "execution_count": 48,
     "metadata": {},
     "output_type": "execute_result"
    }
   ],
   "source": [
    "# Create dataframe at category level\n",
    "df = pd.DataFrame(categories_master_flat)\n",
    "\n",
    "# Explode subcategories to their own rows, creating a multi-index\n",
    "df = df.explode('subcategories')\n",
    "\n",
    "# Convert subcategory dictionary into columns\n",
    "df = df.set_index(['category_name', 'category_link'])['subcategories'].apply(pd.Series)\n",
    "df = df.reset_index()\n",
    "\n",
    "# Explode bottles to their own rows, further expanding the multi-index\n",
    "df = df.explode('bottles')\n",
    "\n",
    "# Convert bottles dictionary into separate columns\n",
    "df = df.set_index(['category_name', 'category_link', 'subcategory_name', 'subcategory_link'])['bottles'].apply(pd.Series)\n",
    "df = df.reset_index()\n",
    "\n",
    "# Preview\n",
    "df.head(20)"
   ]
  },
  {
   "cell_type": "markdown",
   "metadata": {
    "ExecuteTime": {
     "end_time": "2020-01-05T03:17:09.341389Z",
     "start_time": "2020-01-05T03:17:09.336888Z"
    }
   },
   "source": [
    "Write to file"
   ]
  },
  {
   "cell_type": "code",
   "execution_count": 28,
   "metadata": {},
   "outputs": [],
   "source": [
    "#df.to_csv('output/spirits.csv', index=False, encoding='utf-8-sig')"
   ]
  }
 ],
 "metadata": {
  "kernelspec": {
   "display_name": "Python 3",
   "language": "python",
   "name": "python3"
  },
  "language_info": {
   "codemirror_mode": {
    "name": "ipython",
    "version": 3
   },
   "file_extension": ".py",
   "mimetype": "text/x-python",
   "name": "python",
   "nbconvert_exporter": "python",
   "pygments_lexer": "ipython3",
   "version": "3.6.7"
  },
  "toc": {
   "base_numbering": 1,
   "nav_menu": {},
   "number_sections": true,
   "sideBar": true,
   "skip_h1_title": false,
   "title_cell": "Table of Contents",
   "title_sidebar": "Contents",
   "toc_cell": false,
   "toc_position": {},
   "toc_section_display": true,
   "toc_window_display": false
  }
 },
 "nbformat": 4,
 "nbformat_minor": 2
}
